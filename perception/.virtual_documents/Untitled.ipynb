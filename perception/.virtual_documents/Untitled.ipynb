# Dependencies
import cv2
import numpy as np
# Builtins
from math import atan2, sqrt, sin, cos, pi


# Utilities


# Dev-Dependencies
import matplotlib.pyplot as plt


# Dev-Utilities
def imdisp(img, cmap=None):
    plt.imshow(img, cmap=cmap)
    plt.show()
def imdisp_components(labels):
    # Taken from StackOverflow
    # https://stackoverflow.com/questions/46441893/connected-component-labeling-in-python?noredirect=1&lq=1
    # Map component labels to hue val
    label_hue = np.uint8(179*labels/np.max(labels))
    blank_ch = 255*np.ones_like(label_hue)
    labeled_img = cv2.merge([label_hue, blank_ch, blank_ch])
    # cvt to BGR for display
    labeled_img = cv2.cvtColor(labeled_img, cv2.COLOR_HSV2BGR)
    # set bg label to black
    labeled_img[label_hue==0] = 0
    imdisp(labeled_img)


img = cv2.imread("red.png")
# In OpenCV we work with BGR for historical reasons
img = cv2.cvtColor(img, cv2.COLOR_RGB2BGR)
# But for processing we want to use the L*a*b* colorspace
lab = cv2.cvtColor(img, cv2.COLOR_BGR2Lab)
# Let's make sure we did this right
imdisp(img)


# We want to filter for the red color of the cones
# We can do a pretty good job of this since the a*
# axis of the L*a*b* colorspace tells you how red
# (or green) something is
COLOR_FILTER_LO = np.array([50, 160, 0])
COLOR_FILTER_HI = np.array([90, 255, 255])
mask = cv2.inRange(lab, COLOR_FILTER_LO, COLOR_FILTER_HI)
# Now, we need to "open" the mask to remove any
# speckle-like noise
mask = cv2.morphologyEx(mask, cv2.MORPH_OPEN, np.ones((5, 5), np.uint8))
imdisp(mask, cmap='inferno')


# Now, we can split the image in half and deal with both halves:
half_of_width = mask.shape[1] // 2
img_l = img[:,:half_of_width].copy()
img_r = img[:,half_of_width:].copy()
mask_l = mask[:,:half_of_width]
mask_r = mask[:,half_of_width:]
imdisp(mask_r, cmap='inferno')
