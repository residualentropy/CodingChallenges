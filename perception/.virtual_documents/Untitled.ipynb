# Dependencies
import cv2
import numpy as np


# Utilities


# Dev-Dependencies
import matplotlib.pyplot as plt


# Dev-Utilities
def imdisp(img, cmap=None):
    plt.imshow(img, cmap=cmap)
    plt.show()


img = cv2.imread("red.png")
# In OpenCV we work with BGR for historical reasons
img = cv2.cvtColor(img, cv2.COLOR_RGB2BGR)
# But for processing we want to use the L*a*b* colorspace
lab = cv2.cvtColor(img, cv2.COLOR_BGR2Lab)
# Let's make sure we did this right
imdisp(img)


# We want to filter for the red color of the cones
# We can do a pretty good job of this since the a*
# axis of the L*a*b* colorspace tells you how red
# (or green) something is
COLOR_FILTER_LO = np.array([50, 160, 0])
COLOR_FILTER_HI = np.array([90, 255, 255])
mask = cv2.inRange(lab, COLOR_FILTER_LO, COLOR_FILTER_HI)
imdisp(mask, cmap='inferno')


# Now, let's turn this into a set of points using
# SimpleBlobDetector
params = cv2.SimpleBlobDetector_Params()
print(params)
params.filterByColor = False
params.filterByInertia = False
params.filterByConvexity = False
detector = cv2.SimpleBlobDetector(params)
keypoints = detector.detect(mask)
