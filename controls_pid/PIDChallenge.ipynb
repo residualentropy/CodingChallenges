{
 "cells": [
  {
   "cell_type": "code",
   "execution_count": null,
   "metadata": {},
   "outputs": [],
   "source": [
    "!pip install numpy\n",
    "!pip install matplotlib\n",
    "import numpy as np\n",
    "import matplotlib\n",
    "from matplotlib import pyplot as plt\n",
    "%matplotlib inline\n",
    "\n",
    "from utils import Plant # simulator"
   ]
  },
  {
   "cell_type": "markdown",
   "metadata": {},
   "source": [
    "Control Systems\n",
    "---\n",
    "Cool demos of PID Controllers:\n",
    " - [Ball balancing on a stewart platform](https://www.youtube.com/watch?v=j4OmVLc_oDw)\n",
    " - [Balancing an inverted pendulum](https://youtu.be/4kIrcELC79o?t=14)\n",
    "\n",
    "![wikipedia](https://upload.wikimedia.org/wikipedia/commons/3/33/PID_Compensation_Animated.gif)\n",
    "$$source: wikipedia$$\n",
    "\n",
    "\n",
    "\n",
    "Control systems are anything used to for a system to reach a **desired state** by controlling the output response. Control systems typically fall into two categories:\n",
    " - Open Loop\n",
    " - Closed (Feedback) Loop\n",
    "\n",
    "In **open loop** systems, the output isn't fed back into the controller. Instead, the initial state of the system is given, and the control action is done. In an open loop, the final state is assumed to have reached the **desired state.** \n",
    " - **Example:** A simple dishwasher. The initial state of the dishes are assumed to be dirty, so it will run a wash cycle for 30 minutes. The output state of the dishes are assumed to be clean\n",
    "\n",
    "![open_loop.jpg](https://www.tutorialspoint.com/control_systems/images/open_loop.jpg)\n",
    "\n",
    "In a **closed loop** system, the output is fed back into the controller, and the controller constantly updates its control action to reach the desired state. Closed loop controllers are also referred to as feedback controllers.\n",
    " - **Example:** An electric kettle with a temperature sensor. You add water and set the desired temperature to 100&deg;C. The kettle will constantly heat the water until it reaches 100&deg;C.\n",
    " ![closed_loop.jpg](https://www.tutorialspoint.com/control_systems/images/closed_loop.jpg)\n",
    " \n",
    "Error\n",
    "---\n",
    " Control Systems try to reduce **error** in a system. It's basically a measure of how far away the **current state** is from the **desired state.**\n",
    " \n",
    "$$Error = S_{current} - S_{desired}$$"
   ]
  },
  {
   "cell_type": "markdown",
   "metadata": {},
   "source": [
    "Bang-Bang Control\n",
    "---\n",
    "[wikipedia](https://en.wikipedia.org/wiki/Bang%E2%80%93bang_control)\n",
    "\n",
    "One of the simplest closed-loop controllers out there is the **bang-bang** controller. It's basically an on/off controller.\n",
    "\n",
    "The Tea Kettle Company&reg; produces a wide variety of tea kettles. It's first product was the **Tea Kettle of Dubious Quality&trade;**, selling over 2000 units on AliExpress. It uses a simple bang-bang controller to heat the water to 100&deg;C.\n",
    "\n",
    "Here's how the kettle works:\n",
    "```\n",
    "desired_temperature = 100\n",
    "\n",
    "while (True): #run forever\n",
    "    error = current_temperature - desired_temperature\n",
    "    if (error > 0):\n",
    "        heat()\n",
    "    else:\n",
    "        dont()\n",
    "\n",
    "```"
   ]
  },
  {
   "cell_type": "code",
   "execution_count": null,
   "metadata": {},
   "outputs": [],
   "source": [
    "class BangBang(object): #here's our bang-bang controller\n",
    "    def update(self, error, delta_t):\n",
    "        \n",
    "        response = 0\n",
    "        if error > 0:\n",
    "            response = 1 # heat()\n",
    "        elif error < 0:\n",
    "            response = -1 # dont() too lazy to make a better simulator, so we'll use -1 instead of 0\n",
    "            \n",
    "        return response\n",
    "\n",
    "plant = Plant(BangBang(), set_steady=True)\n",
    "plant.simulate()\n",
    "# pretty pictures"
   ]
  },
  {
   "cell_type": "markdown",
   "metadata": {},
   "source": [
    "\n",
    "Pretty simple. As you can see in the graph above, the error eventually converges near 0. However, it never really reaches the desired state. Instead, the environment state will **oscillate around the desired state**. This can be bad in some applications.\n",
    "\n",
    "The oscillation happens because the controller has only two options: On or Off. Because of this, the controller itself will continually overshoot, then undershoot the target. \n",
    "\n",
    "We'll need a more 'granular' controller to get closer to the desired state."
   ]
  },
  {
   "cell_type": "markdown",
   "metadata": {},
   "source": [
    "Proportional Control\n",
    "---\n",
    "The proportional controller is also pretty simple. Instead of just turning on and off, it can output a response **between** completely on or completely off.\n",
    "\n",
    "The **response** of a proportional controller is **proportional** to the error, hence the name. Here's the math behind it.\n",
    "$$P_{response} = K_{p}*E$$\n",
    "Where:\n",
    " - **Kp** is the proportional gain. You determine this using trial-and-error.\n",
    " - **E** is the error\n",
    " - **P_response** is the controller response (output)\n",
    " \n",
    "The proportional gain (Kp) is basically a \"sensitivity\" setting. \n",
    "\n",
    "### Challenge 1\n",
    "1.1) Set Kp to a very low value (0.01) or a high value (0.9). Pay attention to the following:\n",
    " - how long it takes to reach the set state\n",
    " - oscillation of the environment state\n",
    "\n",
    "1.2) After receiving raving reviews from bots on Aliexpress, The Tea Kettle Company&reg; is developing a newer product, the **Premium Kettle of Questionable Quality&trade;** The newer kettle will use a proportional controller. Your job is to tune **Kp** such that:\n",
    " - total error < 40\n",
    " - temperature doesn't visibly overshoot or undershoot more than 3 times total\n",
    "\n",
    "the output should look like this:\n",
    "![resources](resources/download.png)\n",
    "\n",
    "**tl;dr change kp in the cell 2 cells below this one and make it look like the photo above.**"
   ]
  },
  {
   "cell_type": "code",
   "execution_count": null,
   "metadata": {},
   "outputs": [],
   "source": [
    "'''\n",
    "don't change any code in this cell yet\n",
    "'''\n",
    "class PController(object):\n",
    "    def __init__(self, Kp=0.5): # init function. the default Kp value here is 0.5\n",
    "        self.Kp = Kp\n",
    "\n",
    "    def update(self, error, delta_t):\n",
    "        return error*self.Kp"
   ]
  },
  {
   "cell_type": "code",
   "execution_count": null,
   "metadata": {},
   "outputs": [],
   "source": [
    "kp = 0.5 # CHALLENGE 1: tune Kp here\n",
    "controller = PController(kp) # declare and init a PController object. \n",
    "\n",
    "plant = Plant(controller, set_steady=True) # declare and init Plant (simulator)\n",
    "plant.simulate()"
   ]
  },
  {
   "cell_type": "markdown",
   "metadata": {},
   "source": [
    "If you set Kp to a low value, it'll take a long time to reach the set state. However, if you set Kp too high, it'll oscillate quite a bit. However, you **can** get away with using a high Kp, by adding a derivative component.\n",
    "\n",
    "PD Controller:\n",
    "---\n",
    "The PD Controller, short for Proportional-Derivative Controller, looks at both the **error** and the **derivative**(slope, rate of change) of the error. Determining the derivative is pretty easy:\n",
    "$$ dE = \\frac{\\Delta{E}}{\\Delta{t}}$$\n",
    "$$ \\Delta{E} = E_{current} - E_{previous} $$\n",
    "$$ \\Delta{t} = t_{current} - t_{previous} $$\n",
    " - **E** is the error\n",
    " - **t** is time\n",
    " \n",
    " \n",
    "The derivative of E is **change in error** / **change in time**. Here's the equation behind the PD Controller  \n",
    "$$ PD_{response} = K_{p}E + K_{d}dE$$\n",
    "\n",
    "```\n",
    "prev_error = 0\n",
    "\n",
    "while(updating):\n",
    "    delta_e = error - prev_error\n",
    "    d_e = delta_e / delta_t\n",
    "    prev_error = error\n",
    "```\n",
    "The derivative of component of the controller will **limit** the effects of the proportional component if the error is changing too quickly. This ensures that the environment state can recover easily if it overshoots or undershoots, reducing the overall oscillation(when tuned properly).\n",
    "\n",
    "| Pure Proportional Controller | Proportional-Derivative(PD) Controller |\n",
    "| :---------------------------: | :-------------------------------------: |\n",
    "| <img src=\"resources/PD_noD.png\"/> | <img src=\"resources/PD_withD.png\"/> |\n",
    "source: me"
   ]
  },
  {
   "cell_type": "markdown",
   "metadata": {},
   "source": [
    "Constant Shift\n",
    "---\n",
    "There are cases where some obstacle or issue will keep the controller from achieving the set state(faulty sensor, wind, etc.) A pure Proportional or Proportional-Derivative Controller has no way of compensating for this. Try out the code below, and see how the proportional controller reacts to this situation."
   ]
  },
  {
   "cell_type": "code",
   "execution_count": null,
   "metadata": {},
   "outputs": [],
   "source": [
    "kp = 0.5 # tune Kp here\n",
    "controller = PController(kp) # declare and init a PController object. \n",
    "\n",
    "plant = Plant(controller, set_steady=True, set_shift=True) # declare and init Plant (simulator)\n",
    "plant.simulate()"
   ]
  },
  {
   "cell_type": "markdown",
   "metadata": {},
   "source": [
    "As you can see, it will converge on a state, but will never reach the desired state. You can fix this by introducing an additional component&mdash;**the Integral component.**\n",
    "\n",
    "Proportional-Integral Controller\n",
    "---\n",
    "The integral of a function keeps track of the **\"history\"** of the error; it looks at how it has changed over time. The PI controller is represented as follows:\n",
    "$$ PI_{response} = K_{p}*E + K_{i}\\int_{0}^{t} E*dt $$\n",
    "\n",
    "Looks pretty scary, but since we're working with discrete measurements, the integral component is basically this:\n",
    "$$\\int_{0}^{t} E(t)dt = (E_{0} + E_{1} + ... + E_{t})*\\Delta{t}$$\n",
    "\n",
    "Its the **sum of errors &ast; change in time**\n",
    "\n",
    "You don't need to store all the errors, you can just accumulate them each time you make a new measurement.\n",
    "```\n",
    "error_accum = 0\n",
    "while(updating):\n",
    "    error_accum = error_accum + error\n",
    "    integral = error_accum * deta_t\n",
    "```\n",
    "\n",
    "| PI Controller | PI Controller, poorly tuned |\n",
    "| :---------------------------: | :-------------------------------------: |\n",
    "| <img src=\"resources/PI_withI.png\"/> | <img src=\"resources/PI_highI.png\"/> |\n",
    "source: me\n",
    "\n",
    "One thing to be careful about the PI controller is that it can make the controller very unstable if poorly tuned. Tune **Ki** sparingly.\n",
    "\n",
    "Proportional-Integral-Derivative(PID) Controller\n",
    "---\n",
    "$$ PID_{response} = K_{p}*E + K_{i}\\int_{0}^{t} E*dt + K_{d}dE$$\n",
    "Combine all three components, and you'll have yourself a PID controller! The PID controller is fairly robust, and is suitable for almost any application, given proper tuning. To recap:\n",
    " - **Proportional** component reduces current error\n",
    " - **Integral** component reduces constant shift/offset\n",
    " - **Derivative** component reduces oscillation\n",
    "\n",
    "Each component has a gain, **K**. You can tune these gains through trial-and-error. It's recommended that you tune the gains in the following order (P-D-I) :\n",
    "1. **Kp:** tune until it quickly reaches the set state\n",
    "2. **Kd:** tune until oscillations are reasonably reduced\n",
    "3. **Ki:** tune only if constant shift is present\n",
    "\n",
    "Try to keep the gains as low as possible.\n",
    "![wikipedia](https://upload.wikimedia.org/wikipedia/commons/3/33/PID_Compensation_Animated.gif)\n",
    "source: wikipedia"
   ]
  },
  {
   "cell_type": "markdown",
   "metadata": {},
   "source": [
    "Challenge 2\n",
    "---\n",
    "The Tea Kettle Company &reg; is developing their latest and greatest product, the **iKettle&trade;**, a smart kettle that will revolutionize the tea space. They've hired you to develop a controller that can heat water to temperatures that the user sets. However, due to the dubious product quality of their products, the tea kettle can't always heat the water properly. **Write a PID controller** that can both account for the constant offset of the water temperature, and reduce temperature oscillations, as to not overheat the crappy heating element. The output should look like this:\n",
    "![output](resources/PID_tuned.png)\n",
    "\n",
    "**tl;dr write & tune a PID controller. skeleton code provided**"
   ]
  },
  {
   "cell_type": "code",
   "execution_count": null,
   "metadata": {},
   "outputs": [],
   "source": [
    "class PIDController(object):\n",
    "    prev_error = 0.0\n",
    "    accumulated_error = 0.0\n",
    "    def __init__(self, Kp=0.0, Ki=0.0, Kd=0.0):\n",
    "        self.Kp = Kp\n",
    "        self.Ki = Ki\n",
    "        self.Kd = Kd\n",
    "        \n",
    "    def update(self, error, delta_t):\n",
    "        p = self.Kp * error\n",
    "        \n",
    "        '''\n",
    "        CHALLENGE 2: YOUR CODE HERE\n",
    "        '''\n",
    "        response = p# + i + d\n",
    "        return response"
   ]
  },
  {
   "cell_type": "code",
   "execution_count": null,
   "metadata": {},
   "outputs": [],
   "source": [
    "Kp = 0.5 #tune me!\n",
    "Ki = 0.0 #tune me!\n",
    "Kd = 0.0 #tune me!\n",
    "controller = PIDController(Kp, Ki, Kd)\n",
    "\n",
    "plant = Plant(controller, set_shift=True)\n",
    "plant.simulate()"
   ]
  },
  {
   "cell_type": "markdown",
   "metadata": {},
   "source": [
    "Bonus\n",
    "---\n",
    "Try the controller in a noisy system!"
   ]
  },
  {
   "cell_type": "code",
   "execution_count": null,
   "metadata": {},
   "outputs": [],
   "source": [
    "plant = Plant(controller, set_shift=True, noise=True)\n",
    "plant.simulate()"
   ]
  },
  {
   "cell_type": "code",
   "execution_count": null,
   "metadata": {},
   "outputs": [],
   "source": []
  }
 ],
 "metadata": {
  "kernelspec": {
   "display_name": "Python 3",
   "language": "python",
   "name": "python3"
  },
  "language_info": {
   "codemirror_mode": {
    "name": "ipython",
    "version": 3
   },
   "file_extension": ".py",
   "mimetype": "text/x-python",
   "name": "python",
   "nbconvert_exporter": "python",
   "pygments_lexer": "ipython3",
   "version": "3.10.7"
  }
 },
 "nbformat": 4,
 "nbformat_minor": 2
}
